{
 "cells": [
  {
   "cell_type": "code",
   "execution_count": 2,
   "metadata": {},
   "outputs": [],
   "source": [
    "# !jupyter nbextension enable --py --sys-prefix widgetsnbextension\n",
    "# !pip install gmaps\n",
    "# !jupyter nbextension enable --py --sys-prefix gmaps"
   ]
  },
  {
   "cell_type": "code",
   "execution_count": 3,
   "metadata": {},
   "outputs": [],
   "source": [
    "# Displays figures in line\n",
    "%matplotlib inline\n",
    "\n",
    "# Import dependencies \n",
    "import pandas as pd\n",
    "import numpy as np\n",
    "import matplotlib.pyplot as plt\n",
    "import gmaps\n",
    "import requests \n",
    "import json\n",
    "import datetime\n",
    "plt.style.use('ggplot')\n",
    "\n",
    "from pprint import pprint\n",
    "from config import api_key\n",
    "\n",
    "# Configure gmaps with API key\n",
    "gmaps.configure(api_key=api_key)"
   ]
  },
  {
   "cell_type": "code",
   "execution_count": 4,
   "metadata": {},
   "outputs": [],
   "source": [
    "#url = \"https://maps2.dcgis.dc.gov/dcgis/rest/services/DCGIS_DATA/Public_Safety_WebMercator/MapServer/24/query?where=1%3D1&outFields=*&outSR=4326&f=json\"\n",
    "url = \"https://maps2.dcgis.dc.gov/dcgis/rest/services/DCGIS_DATA/Public_Safety_WebMercator/MapServer/24/query?where=1%3D1&outFields=*&outSR=4326&f=json&returnIdsOnly=true\""
   ]
  },
  {
   "cell_type": "code",
   "execution_count": 5,
   "metadata": {},
   "outputs": [],
   "source": [
    "response = requests.get(url)\n",
    "resp_dict = json.loads(response.text)\n",
    "objectIds = resp_dict[\"objectIds\"]\n",
    "objectId_count = len(objectIds)\n",
    "# print(objectId_count)\n",
    "  \n",
    "crash_data = []  \n",
    "count = 0\n",
    "start = 0\n",
    "end = 0\n",
    "batch = 125"
   ]
  },
  {
   "cell_type": "code",
   "execution_count": 6,
   "metadata": {},
   "outputs": [],
   "source": [
    "while count < objectId_count:\n",
    "\n",
    "    end = end + batch\n",
    "    url = \"https://maps2.dcgis.dc.gov/dcgis/rest/services/DCGIS_DATA/Public_Safety_WebMercator/MapServer/24/query?where=1%3D1&outFields=*&outSR=4326&f=json&objectIds= \"+ str(objectIds[start:end]).replace('[','').replace(']','')\n",
    "# url = 'https://maps2.dcgis.dc.gov/dcgis/rest/services/DCGIS_DATA/Public_Safety_WebMercator/MapServer/24/query?where=1%3D1&outFields=*&outSR=4326&f=json&objectIds= ' + str(objectIds[0:125]).replace('[','').replace(']','')\n",
    "# url = 'https://maps2.dcgis.dc.gov/dcgis/rest/services/DCGIS_DATA/Public_Safety_WebMercator/MapServer/24/query?where=1%3D1&outFields=*&outSR=4326&f=json&objectIds=47221836,47221838,47221481'\n",
    "    \n",
    "    response_new = requests.get(url).json()\n",
    "    start = end   \n",
    "    count = count + batch \n",
    "    data = response_new['features']\n",
    "    \n",
    "    #pprint(start)\n",
    "    #pprint(end)\n",
    "    #pprint(data)\n",
    "\n",
    "# print(len(data))\n",
    "    i = 0\n",
    "    for x in data:\n",
    "        crash_data.append(data[i]['attributes'])\n",
    "        i = i + 1\n",
    "#print(crash_data)\n",
    "#response_new = requests.get(url)\n",
    "#print(response_new.text)\n",
    "\n",
    "# for x in response_new['features']:\n",
    "#         crash_data.append(x)"
   ]
  },
  {
   "cell_type": "code",
   "execution_count": 9,
   "metadata": {},
   "outputs": [
    {
     "name": "stderr",
     "output_type": "stream",
     "text": [
      "/anaconda3/lib/python3.6/site-packages/ipykernel_launcher.py:5: SettingWithCopyWarning: \n",
      "A value is trying to be set on a copy of a slice from a DataFrame.\n",
      "Try using .loc[row_indexer,col_indexer] = value instead\n",
      "\n",
      "See the caveats in the documentation: http://pandas.pydata.org/pandas-docs/stable/indexing.html#indexing-view-versus-copy\n",
      "  \"\"\"\n",
      "/anaconda3/lib/python3.6/site-packages/ipykernel_launcher.py:6: SettingWithCopyWarning: \n",
      "A value is trying to be set on a copy of a slice from a DataFrame.\n",
      "Try using .loc[row_indexer,col_indexer] = value instead\n",
      "\n",
      "See the caveats in the documentation: http://pandas.pydata.org/pandas-docs/stable/indexing.html#indexing-view-versus-copy\n",
      "  \n",
      "/anaconda3/lib/python3.6/site-packages/ipykernel_launcher.py:7: SettingWithCopyWarning: \n",
      "A value is trying to be set on a copy of a slice from a DataFrame.\n",
      "Try using .loc[row_indexer,col_indexer] = value instead\n",
      "\n",
      "See the caveats in the documentation: http://pandas.pydata.org/pandas-docs/stable/indexing.html#indexing-view-versus-copy\n",
      "  import sys\n"
     ]
    },
    {
     "name": "stdout",
     "output_type": "stream",
     "text": [
      "                                  ADDRESS  BICYCLISTSIMPAIRED       CCN  \\\n",
      "61                           1500 U ST NW                   0  16092445   \n",
      "76                       1700 U STREET NW                   0  16218973   \n",
      "140                 700 KENILWORTH AVE NE                   0  16207613   \n",
      "163  HAWAII AVENUE NE & ALLISON STREET NE                   0  17161068   \n",
      "209          2940 NORTH CAPITOL STREET NW                   0  17137710   \n",
      "\n",
      "      CRIMEID  DRIVERSIMPAIRED                                 EVENTID  \\\n",
      "61   26966014                0  {52C362B0-D1A0-44BB-9DF0-0731CC968A18}   \n",
      "76   27170483                0  {9FB3E66C-B0F4-4337-BD5C-B9A42713093A}   \n",
      "140  27149613                0  {619B430B-DE08-4696-88CA-4CBC3A8F8134}   \n",
      "163  27433921                1  {8266D97F-095F-49FB-BD67-BF02F0968644}   \n",
      "209  27396941                0  {54F37900-1563-49B8-AEC4-309C20F47E8B}   \n",
      "\n",
      "     FATAL_BICYCLIST  FATAL_DRIVER  FATAL_PEDESTRIAN   FROMDATE  ...   \\\n",
      "61                 0             0                 0 2016-06-07  ...    \n",
      "76                 0             0                 0 2016-12-28  ...    \n",
      "140                0             0                 0 2016-12-02  ...    \n",
      "163                0             0                 0 2017-09-16  ...    \n",
      "209                0             0                 0 2017-08-10  ...    \n",
      "\n",
      "    TOTAL_TAXIS  TOTAL_VEHICLES  UNKNOWNINJURIES_BICYCLIST  \\\n",
      "61            0               2                          0   \n",
      "76            0               2                          0   \n",
      "140           0               2                          0   \n",
      "163           0               2                          0   \n",
      "209           0               2                          0   \n",
      "\n",
      "    UNKNOWNINJURIES_DRIVER  UNKNOWNINJURIES_PEDESTRIAN    WARD      XCOORD  \\\n",
      "61                       0                           0  Ward 2  396979.577   \n",
      "76                       0                           0  Ward 2  396642.050   \n",
      "140                      0                           0  Ward 7  404478.833   \n",
      "163                      0                           0  Ward 5  399349.032   \n",
      "209                      0                           0  Ward 5  399216.471   \n",
      "\n",
      "         YCOORD  YEAR MONTH  \n",
      "61   138793.067  2016     6  \n",
      "76   138793.539  2016    12  \n",
      "140  136788.897  2016    12  \n",
      "163  142049.847  2017     9  \n",
      "209  139811.454  2017     8  \n",
      "\n",
      "[5 rows x 54 columns]\n"
     ]
    }
   ],
   "source": [
    "master = pd.DataFrame(crash_data)\n",
    "master_df = master.dropna(subset=[\"LATITUDE\"])\n",
    "master_df = master.dropna(subset=[\"LONGITUDE\"])\n",
    "\n",
    "master_df[\"FROMDATE\"]=pd.to_datetime(master_df['FROMDATE'],unit='ms')\n",
    "master_df[\"YEAR\"]=pd.DatetimeIndex(master_df[\"FROMDATE\"]).year\n",
    "master_df[\"MONTH\"]=pd.DatetimeIndex(master_df[\"FROMDATE\"]).month\n",
    "\n",
    "master_df = master_df.dropna(subset = ['FROMDATE'])\n",
    "master_df[\"YEAR\"] = master_df[\"YEAR\"].astype(int)\n",
    "master_df[\"MONTH\"] = master_df[\"MONTH\"].astype(int)\n",
    "\n",
    "master_df = master_df.loc[master_df[\"YEAR\"] >= 2008]\n",
    "master_df = master_df.loc[master_df[\"YEAR\"] < 2018]\n",
    "print(master_df.head())\n",
    "\n",
    "# Create csv file containing DC Crash Data\n",
    "master_df.to_csv(\"DC Crash Data.csv\")"
   ]
  },
  {
   "cell_type": "code",
   "execution_count": 10,
   "metadata": {},
   "outputs": [
    {
     "data": {
      "text/plain": [
       "ADDRESS                       170080\n",
       "BICYCLISTSIMPAIRED            170117\n",
       "CCN                           170117\n",
       "CRIMEID                       170117\n",
       "DRIVERSIMPAIRED               170117\n",
       "EVENTID                       170117\n",
       "FATAL_BICYCLIST               170117\n",
       "FATAL_DRIVER                  170117\n",
       "FATAL_PEDESTRIAN              170117\n",
       "FROMDATE                      170117\n",
       "INTAPPROACHDIRECTION          160961\n",
       "LASTUPDATEDATE                  1159\n",
       "LATITUDE                      170117\n",
       "LOCATIONERROR                   1603\n",
       "LONGITUDE                     170117\n",
       "MAJORINJURIES_BICYCLIST       170117\n",
       "MAJORINJURIES_DRIVER          170117\n",
       "MAJORINJURIES_PEDESTRIAN      170117\n",
       "MARID                         170117\n",
       "MAR_ADDRESS                   163888\n",
       "MAR_SCORE                     170117\n",
       "MEASURE                       168515\n",
       "MINORINJURIES_BICYCLIST       170117\n",
       "MINORINJURIES_DRIVER          170117\n",
       "MINORINJURIES_PEDESTRIAN      170117\n",
       "MPDGEOX                        55751\n",
       "MPDGEOY                        55751\n",
       "MPDLATITUDE                   102230\n",
       "MPDLONGITUDE                  102230\n",
       "NEARESTINTROUTEID             160977\n",
       "NEARESTINTSTREETNAME          160873\n",
       "OBJECTID                      170117\n",
       "OFFINTERSECTION               168515\n",
       "OFFSET                        168515\n",
       "PEDESTRIANSIMPAIRED           170117\n",
       "REPORTDATE                    169055\n",
       "ROADWAYSEGID                  168515\n",
       "ROUTEID                       168515\n",
       "SPEEDING_INVOLVED             170117\n",
       "STREETSEGID                   168515\n",
       "TODATE                             0\n",
       "TOTAL_BICYCLES                170117\n",
       "TOTAL_GOVERNMENT              170117\n",
       "TOTAL_PEDESTRIANS             170117\n",
       "TOTAL_TAXIS                   170117\n",
       "TOTAL_VEHICLES                170117\n",
       "UNKNOWNINJURIES_BICYCLIST     170117\n",
       "UNKNOWNINJURIES_DRIVER        170117\n",
       "UNKNOWNINJURIES_PEDESTRIAN    170117\n",
       "WARD                          170115\n",
       "XCOORD                        170117\n",
       "YCOORD                        170117\n",
       "YEAR                          170117\n",
       "MONTH                         170117\n",
       "dtype: int64"
      ]
     },
     "execution_count": 10,
     "metadata": {},
     "output_type": "execute_result"
    }
   ],
   "source": [
    "master_df.count()"
   ]
  },
  {
   "cell_type": "code",
   "execution_count": 11,
   "metadata": {},
   "outputs": [
    {
     "name": "stdout",
     "output_type": "stream",
     "text": [
      "Ward3 Total Unique Accident Count: 11410\n",
      "Ward3 Bike Count: 90\n",
      "Ward3 Vehicle Count: 11344\n",
      "Ward3 Pedestrian Count: 183\n",
      "Ward3 Taxi Count: 927\n",
      "Ward3 Government Count: 1032\n"
     ]
    }
   ],
   "source": [
    "# Create dataframes for each ward containing all DC crash data\n",
    "ward1DF = master_df.loc[master_df[\"WARD\"]== \"Ward 1\"]\n",
    "ward2DF = master_df.loc[master_df[\"WARD\"]== \"Ward 2\"]\n",
    "ward3DF = master_df.loc[master_df[\"WARD\"]== \"Ward 3\"]\n",
    "ward4DF = master_df.loc[master_df[\"WARD\"]== \"Ward 4\"]\n",
    "ward5DF = master_df.loc[master_df[\"WARD\"]== \"Ward 5\"]\n",
    "ward6DF = master_df.loc[master_df[\"WARD\"]== \"Ward 6\"]\n",
    "ward7DF = master_df.loc[master_df[\"WARD\"]== \"Ward 7\"]\n",
    "ward8DF = master_df.loc[master_df[\"WARD\"]== \"Ward 8\"]\n",
    "\n",
    "# Count total number of unique accidents for each ward\n",
    "ward1_totalCount = master_df.loc[master_df[\"WARD\"]== \"Ward 1\"].count()[\"CRIMEID\"]\n",
    "ward2_totalCount = master_df.loc[master_df[\"WARD\"]== \"Ward 2\"].count()[\"CRIMEID\"]\n",
    "ward3_totalCount = master_df.loc[master_df[\"WARD\"]== \"Ward 3\"].count()[\"CRIMEID\"]\n",
    "ward4_totalCount = master_df.loc[master_df[\"WARD\"]== \"Ward 4\"].count()[\"CRIMEID\"]\n",
    "ward5_totalCount = master_df.loc[master_df[\"WARD\"]== \"Ward 5\"].count()[\"CRIMEID\"]\n",
    "ward6_totalCount = master_df.loc[master_df[\"WARD\"]== \"Ward 6\"].count()[\"CRIMEID\"]\n",
    "ward7_totalCount = master_df.loc[master_df[\"WARD\"]== \"Ward 7\"].count()[\"CRIMEID\"]\n",
    "ward8_totalCount = master_df.loc[master_df[\"WARD\"]== \"Ward 8\"].count()[\"CRIMEID\"]\n",
    "\n",
    "# Identify accident count for each ward by type of accident: Bikes, Vehicles, Pedestrians, Taxis, Government\n",
    "# BIKES:\n",
    "ward1_bikeCount = len(ward1DF.loc[ward1DF[\"TOTAL_BICYCLES\"]>=1])\n",
    "ward2_bikeCount = len(ward2DF.loc[ward2DF[\"TOTAL_BICYCLES\"]>=1])\n",
    "ward3_bikeCount = len(ward3DF.loc[ward3DF[\"TOTAL_BICYCLES\"]>=1])\n",
    "ward4_bikeCount = len(ward4DF.loc[ward4DF[\"TOTAL_BICYCLES\"]>=1])\n",
    "ward5_bikeCount = len(ward5DF.loc[ward5DF[\"TOTAL_BICYCLES\"]>=1])\n",
    "ward6_bikeCount = len(ward6DF.loc[ward6DF[\"TOTAL_BICYCLES\"]>=1])\n",
    "ward7_bikeCount = len(ward7DF.loc[ward7DF[\"TOTAL_BICYCLES\"]>=1])\n",
    "ward8_bikeCount = len(ward8DF.loc[ward8DF[\"TOTAL_BICYCLES\"]>=1])\n",
    "\n",
    "# VEHICLES:\n",
    "ward1_carCount = len(ward1DF.loc[ward1DF[\"TOTAL_VEHICLES\"]>=1])\n",
    "ward2_carCount = len(ward2DF.loc[ward2DF[\"TOTAL_VEHICLES\"]>=1])\n",
    "ward3_carCount = len(ward3DF.loc[ward3DF[\"TOTAL_VEHICLES\"]>=1])\n",
    "ward4_carCount = len(ward4DF.loc[ward4DF[\"TOTAL_VEHICLES\"]>=1])\n",
    "ward5_carCount = len(ward5DF.loc[ward5DF[\"TOTAL_VEHICLES\"]>=1])\n",
    "ward6_carCount = len(ward6DF.loc[ward6DF[\"TOTAL_VEHICLES\"]>=1])\n",
    "ward7_carCount = len(ward7DF.loc[ward7DF[\"TOTAL_VEHICLES\"]>=1])\n",
    "ward8_carCount = len(ward8DF.loc[ward8DF[\"TOTAL_VEHICLES\"]>=1])\n",
    "\n",
    "# PEDESTRIANS:\n",
    "ward1_pedestrianCount = len(ward1DF.loc[ward1DF[\"TOTAL_PEDESTRIANS\"]>=1])\n",
    "ward2_pedestrianCount = len(ward2DF.loc[ward2DF[\"TOTAL_PEDESTRIANS\"]>=1])\n",
    "ward3_pedestrianCount = len(ward3DF.loc[ward3DF[\"TOTAL_PEDESTRIANS\"]>=1])\n",
    "ward4_pedestrianCount = len(ward4DF.loc[ward4DF[\"TOTAL_PEDESTRIANS\"]>=1])\n",
    "ward5_pedestrianCount = len(ward5DF.loc[ward5DF[\"TOTAL_PEDESTRIANS\"]>=1])\n",
    "ward6_pedestrianCount = len(ward6DF.loc[ward6DF[\"TOTAL_PEDESTRIANS\"]>=1])\n",
    "ward7_pedestrianCount = len(ward7DF.loc[ward7DF[\"TOTAL_PEDESTRIANS\"]>=1])\n",
    "ward8_pedestrianCount = len(ward8DF.loc[ward8DF[\"TOTAL_PEDESTRIANS\"]>=1])\n",
    "\n",
    "# TAXIS:\n",
    "ward1_taxiCount = len(ward1DF.loc[ward1DF[\"TOTAL_TAXIS\"]>=1])\n",
    "ward2_taxiCount = len(ward2DF.loc[ward2DF[\"TOTAL_TAXIS\"]>=1])\n",
    "ward3_taxiCount = len(ward3DF.loc[ward3DF[\"TOTAL_TAXIS\"]>=1])\n",
    "ward4_taxiCount = len(ward4DF.loc[ward4DF[\"TOTAL_TAXIS\"]>=1])\n",
    "ward5_taxiCount = len(ward5DF.loc[ward5DF[\"TOTAL_TAXIS\"]>=1])\n",
    "ward6_taxiCount = len(ward6DF.loc[ward6DF[\"TOTAL_TAXIS\"]>=1])\n",
    "ward7_taxiCount = len(ward7DF.loc[ward7DF[\"TOTAL_TAXIS\"]>=1])\n",
    "ward8_taxiCount = len(ward8DF.loc[ward8DF[\"TOTAL_TAXIS\"]>=1])\n",
    "\n",
    "# GOVERNMENT:\n",
    "ward1_govCount = len(ward1DF.loc[ward1DF[\"TOTAL_GOVERNMENT\"]>=1])\n",
    "ward2_govCount = len(ward2DF.loc[ward2DF[\"TOTAL_GOVERNMENT\"]>=1])\n",
    "ward3_govCount = len(ward3DF.loc[ward3DF[\"TOTAL_GOVERNMENT\"]>=1])\n",
    "ward4_govCount = len(ward4DF.loc[ward4DF[\"TOTAL_GOVERNMENT\"]>=1])\n",
    "ward5_govCount = len(ward5DF.loc[ward5DF[\"TOTAL_GOVERNMENT\"]>=1])\n",
    "ward6_govCount = len(ward6DF.loc[ward6DF[\"TOTAL_GOVERNMENT\"]>=1])\n",
    "ward7_govCount = len(ward7DF.loc[ward7DF[\"TOTAL_GOVERNMENT\"]>=1])\n",
    "ward8_govCount = len(ward8DF.loc[ward8DF[\"TOTAL_GOVERNMENT\"]>=1])\n",
    "\n",
    "# Verify if totals add up for each accident type\n",
    "print(f\"Ward3 Total Unique Accident Count: {ward3_totalCount}\")\n",
    "print(f\"Ward3 Bike Count: {ward3_bikeCount}\")\n",
    "print(f\"Ward3 Vehicle Count: {ward3_carCount}\")\n",
    "print(f\"Ward3 Pedestrian Count: {ward3_pedestrianCount}\")\n",
    "print(f\"Ward3 Taxi Count: {ward3_taxiCount}\")\n",
    "print(f\"Ward3 Government Count: {ward3_govCount}\")\n"
   ]
  },
  {
   "cell_type": "code",
   "execution_count": 15,
   "metadata": {},
   "outputs": [
    {
     "data": {
      "image/png": "[encoded data removed]",
      "text/plain": [
       "<matplotlib.figure.Figure at 0x125750208>"
      ]
     },
     "metadata": {},
     "output_type": "display_data"
    },
    {
     "data": {
      "text/plain": [
       "<matplotlib.figure.Figure at 0x1222cd4a8>"
      ]
     },
     "metadata": {},
     "output_type": "display_data"
    }
   ],
   "source": [
    "# BAR CHART: Total number of accidents per ward\n",
    "\n",
    "# Create list of total ward accidents and corresponding colors\n",
    "totalAccidents = [ward1_totalCount, ward2_totalCount, ward3_totalCount, ward4_totalCount, \n",
    "                  ward5_totalCount, ward6_totalCount, ward7_totalCount, ward8_totalCount]\n",
    "\n",
    "#colors = [\"lightblue\", \"green\", \"red\", \"blue\", \"gold\", \"grey\", \"purple\", \"pink\"]\n",
    "colors = [\"lightblue\", \"red\", \"lightblue\", \"lightblue\", \"lightblue\", \"lightblue\", \"lightblue\", \"lightblue\"]\n",
    "\n",
    "# Plot bar chart: Define x axis, tick mark locations, title and labels\n",
    "plt.figure(figsize=(20,7))\n",
    "xAxis = np.arange(len(totalAccidents))\n",
    "tickLocations = [value for value in xAxis]\n",
    "plt.xticks(tickLocations, [\"Ward 1\", \"Ward 2\", \"Ward 3\", \"Ward 4\", \"Ward 5\", \"Ward 6\", \"Ward 7\", \"Ward 8\"], rotation=\"0\", fontsize=14)\n",
    "plt.bar(xAxis, totalAccidents, align=\"center\", color=colors, width=.9)\n",
    "plt.title(\"Total Number of Accidents in Washington DC Wards from 2008-Present\", fontsize=22)\n",
    "plt.ylabel(\"Number of Accidents\", fontsize=18)\n",
    "plt.tight_layout()\n",
    "plt.show()\n",
    "\n",
    "plt.savefig(\"DC Wards Total Accidents.png\")\n"
   ]
  },
  {
   "cell_type": "code",
   "execution_count": 16,
   "metadata": {},
   "outputs": [
    {
     "data": {
      "image/png": "[encoded data removed]",
      "text/plain": [
       "<matplotlib.figure.Figure at 0x1257efeb8>"
      ]
     },
     "metadata": {},
     "output_type": "display_data"
    }
   ],
   "source": [
    "# BAR CHART: Total Accidents in DC Wards by Accident Type (Grouped Wards)\n",
    "\n",
    "# Create dataframe for wards and accident types\n",
    "wardCrashData = {\"Location\": [\"Ward 1\", \"Ward 2\", \"Ward 3\", \"Ward 4\", \"Ward 5\", \"Ward 6\", \"Ward 7\", \"Ward 8\"], \n",
    "                 \"Total Bikes\": [ward1_bikeCount, ward2_bikeCount, ward3_bikeCount, ward4_bikeCount, ward5_bikeCount, ward6_bikeCount, ward7_bikeCount, ward8_bikeCount],\n",
    "                 \"Total Vehicles\": [ward1_carCount, ward2_carCount, ward3_carCount, ward4_carCount, ward5_carCount, ward6_carCount, ward7_carCount, ward8_carCount],\n",
    "                 \"Total Pedestrians\": [ward1_pedestrianCount, ward2_pedestrianCount, ward3_pedestrianCount, ward4_pedestrianCount, ward5_pedestrianCount, ward6_pedestrianCount, ward7_pedestrianCount, ward8_pedestrianCount],\n",
    "                 \"Total Taxis\": [ward1_taxiCount, ward2_taxiCount, ward3_taxiCount, ward4_taxiCount, ward5_taxiCount, ward6_taxiCount, ward7_taxiCount, ward8_taxiCount],\n",
    "                 \"Total Government\": [ward1_govCount, ward2_govCount, ward3_govCount, ward4_govCount, ward5_govCount, ward6_govCount, ward7_govCount, ward8_govCount]}\n",
    "\n",
    "wardCrashTypeTotalDF = pd.DataFrame(wardCrashData)\n",
    "#print(wardCrashTypeTotalDF)\n",
    "\n",
    "# Setting the positions and width for the bars\n",
    "xAxis = list(range(len(wardCrashTypeTotalDF[\"Location\"])))\n",
    "width = .16666667\n",
    "    \n",
    "# Plotting the bars\n",
    "plt.figure(figsize=(20,7))\n",
    "\n",
    "# Create a bar chart with bike data \n",
    "plt.bar([x for x in xAxis], wardCrashTypeTotalDF[\"Total Bikes\"], width, color=\"red\", label=\"Bike\")\n",
    "plt.bar([x + width for x in xAxis], wardCrashTypeTotalDF[\"Total Vehicles\"], width, color=\"skyblue\", label=\"Vehicles\")\n",
    "plt.bar([x + width*2 for x in xAxis], wardCrashTypeTotalDF[\"Total Pedestrians\"], width,  color=\"pink\", label=\"Pedestrians\")\n",
    "plt.bar([x + width*3 for x in xAxis], wardCrashTypeTotalDF[\"Total Taxis\"], width,  color=\"lightgreen\", label=\"Taxis\")\n",
    "plt.bar([x + width*4 for x in xAxis], wardCrashTypeTotalDF[\"Total Government\"], width, color=\"gold\", label=\"Government\")\n",
    "\n",
    "# Set chart title and labels\n",
    "plt.title(\"Total Accidents in DC Wards by Accident Type\", fontsize=22)\n",
    "plt.ylabel(\"Number of Accidents\", fontsize=20)\n",
    "\n",
    "# Set the position of the x ticks\n",
    "tickLocations = [x + 2 * width for x in xAxis]\n",
    "plt.xticks(tickLocations, [\"Ward 1\", \"Ward 2\", \"Ward 3\", \"Ward 4\", \"Ward 5\", \"Ward 6\", \"Ward 7\", \"Ward 8\"], rotation=\"0\", fontsize=18)\n",
    "\n",
    "# Setting the x-axis and y-axis limits\n",
    "plt.xlim(min(xAxis)-width, max(xAxis)+width*5)\n",
    "plt.ylim([0, 10 + max(wardCrashTypeTotalDF[\"Total Vehicles\"])])\n",
    "\n",
    "# Adding the legend and showing the plot\n",
    "plt.legend([\"Bikes\", \"Vehicles\", \"Pedestrians\", \"Taxis\", \"Government\"], loc=\"upper right\")\n",
    "plt.tight_layout()\n",
    "plt.show()\n",
    "\n",
    "plt.savefig(\"Ward Accidents by Type.png\")\n"
   ]
  },
  {
   "cell_type": "code",
   "execution_count": 17,
   "metadata": {},
   "outputs": [
    {
     "data": {
      "image/png": "[encoded data removed]",
      "text/plain": [
       "<matplotlib.figure.Figure at 0x12dacb208>"
      ]
     },
     "metadata": {},
     "output_type": "display_data"
    }
   ],
   "source": [
    "# BAR CHART: Total Accidents in DC Wards by Accident Type (Grouped Types)\n",
    "\n",
    "# Create dataframe for wards and accident types\n",
    "crashTypeData = {\"Accident Type\": [\"Bikes\", \"Vehicles\", \"Pedestrians\", \"Taxis\", \"Government\"],\n",
    "                 \"Ward 1\": [ward1_bikeCount, ward1_carCount, ward1_pedestrianCount, ward1_taxiCount, ward1_govCount], \n",
    "                 \"Ward 2\": [ward2_bikeCount, ward2_carCount, ward2_pedestrianCount, ward2_taxiCount, ward2_govCount],\n",
    "                 \"Ward 3\": [ward3_bikeCount, ward3_carCount, ward3_pedestrianCount, ward3_taxiCount, ward3_govCount],\n",
    "                 \"Ward 4\": [ward4_bikeCount, ward4_carCount, ward4_pedestrianCount, ward4_taxiCount, ward4_govCount],\n",
    "                 \"Ward 5\": [ward5_bikeCount, ward5_carCount, ward5_pedestrianCount, ward5_taxiCount, ward5_govCount],\n",
    "                 \"Ward 6\": [ward6_bikeCount, ward6_carCount, ward6_pedestrianCount, ward6_taxiCount, ward6_govCount],\n",
    "                 \"Ward 7\": [ward7_bikeCount, ward7_carCount, ward7_pedestrianCount, ward7_taxiCount, ward7_govCount],\n",
    "                 \"Ward 8\": [ward8_bikeCount, ward8_carCount, ward8_pedestrianCount, ward8_taxiCount, ward8_govCount]}\n",
    "                 \n",
    "crashTypeDataDF = pd.DataFrame(crashTypeData)\n",
    "#print(crashTypeDataDF)\n",
    "\n",
    "# Setting the positions and width for the bars\n",
    "xAxis = list(range(len(crashTypeDataDF[\"Accident Type\"])))\n",
    "width = .10\n",
    "\n",
    "\n",
    "# Plotting the bars\n",
    "plt.figure(figsize=(20,7))\n",
    "\n",
    "# Create a bar chart with bike data \n",
    "plt.bar([x for x in xAxis], crashTypeDataDF[\"Ward 1\"], width, color=\"red\", label=\"Ward 1\")\n",
    "plt.bar([x + width for x in xAxis], crashTypeDataDF[\"Ward 2\"], width, color=\"skyblue\", label=\"Ward 2\")\n",
    "plt.bar([x + width*2 for x in xAxis], crashTypeDataDF[\"Ward 3\"], width,  color=\"pink\", label=\"Ward 3\")\n",
    "plt.bar([x + width*3 for x in xAxis], crashTypeDataDF[\"Ward 4\"], width,  color=\"lightgreen\", label=\"Ward 4\")\n",
    "plt.bar([x + width*4 for x in xAxis], crashTypeDataDF[\"Ward 5\"], width, color=\"gold\", label=\"Ward 5\")\n",
    "plt.bar([x + width*5 for x in xAxis], crashTypeDataDF[\"Ward 6\"], width, color=\"purple\", label=\"Ward 6\")\n",
    "plt.bar([x + width*6 for x in xAxis], crashTypeDataDF[\"Ward 7\"], width, color=\"blue\", label=\"Ward 7\")\n",
    "plt.bar([x + width*7 for x in xAxis], crashTypeDataDF[\"Ward 8\"], width, color=\"grey\", label=\"Ward 8\")\n",
    "\n",
    "\n",
    "# Set chart title and labels\n",
    "plt.title(\"Total Accidents in DC Wards by Accident Type\", fontsize=22)\n",
    "plt.ylabel(\"Number of Accidents\", fontsize=20)\n",
    "\n",
    "# Set the position of the x ticks\n",
    "tickLocations = [x + 3.5 * width for x in xAxis]\n",
    "plt.xticks(tickLocations, [\"Bikes\", \"Vehicles\", \"Pedestrians\", \"Taxis\", \"Government\"], rotation=\"0\", fontsize=18)\n",
    "\n",
    "# Setting the x-axis and y-axis limits\n",
    "plt.xlim(min(xAxis)-width, max(xAxis)+width*5)\n",
    "plt.ylim([0, 10 + max(wardCrashTypeTotalDF[\"Total Vehicles\"])])\n",
    "\n",
    "# Adding the legend and showing the plot\n",
    "plt.legend([\"Ward 1\", \"Ward 2\", \"Ward 3\", \"Ward 4\", \"Ward 5\", \"Ward 6\", \"Ward 7\", \"Ward 8\"], loc=\"upper right\")\n",
    "plt.tight_layout()\n",
    "plt.show()"
   ]
  },
  {
   "cell_type": "code",
   "execution_count": 1,
   "metadata": {},
   "outputs": [
    {
     "ename": "NameError",
     "evalue": "name 'ward2DF' is not defined",
     "output_type": "error",
     "traceback": [
      "\u001b[0;31m---------------------------------------------------------------------------\u001b[0m",
      "\u001b[0;31mNameError\u001b[0m                                 Traceback (most recent call last)",
      "\u001b[0;32m<ipython-input-1-838784433ffa>\u001b[0m in \u001b[0;36m<module>\u001b[0;34m()\u001b[0m\n\u001b[1;32m      4\u001b[0m \u001b[0;34m\u001b[0m\u001b[0m\n\u001b[1;32m      5\u001b[0m \u001b[0;31m# WARD1 - Accident Types:\u001b[0m\u001b[0;34m\u001b[0m\u001b[0;34m\u001b[0m\u001b[0m\n\u001b[0;32m----> 6\u001b[0;31m \u001b[0mward2_bikeDF\u001b[0m \u001b[0;34m=\u001b[0m \u001b[0mward2DF\u001b[0m\u001b[0;34m.\u001b[0m\u001b[0mloc\u001b[0m\u001b[0;34m[\u001b[0m\u001b[0mward2DF\u001b[0m\u001b[0;34m[\u001b[0m\u001b[0;34m\"TOTAL_BICYCLES\"\u001b[0m\u001b[0;34m]\u001b[0m\u001b[0;34m>=\u001b[0m\u001b[0;36m1\u001b[0m\u001b[0;34m]\u001b[0m\u001b[0;34m\u001b[0m\u001b[0m\n\u001b[0m\u001b[1;32m      7\u001b[0m \u001b[0mward2_bikeGeo\u001b[0m \u001b[0;34m=\u001b[0m \u001b[0mward2_bikeDF\u001b[0m\u001b[0;34m[\u001b[0m\u001b[0;34m[\u001b[0m\u001b[0;34m\"LATITUDE\"\u001b[0m\u001b[0;34m,\u001b[0m \u001b[0;34m\"LONGITUDE\"\u001b[0m\u001b[0;34m]\u001b[0m\u001b[0;34m]\u001b[0m\u001b[0;34m\u001b[0m\u001b[0m\n\u001b[1;32m      8\u001b[0m \u001b[0;34m\u001b[0m\u001b[0m\n",
      "\u001b[0;31mNameError\u001b[0m: name 'ward2DF' is not defined"
     ]
    }
   ],
   "source": [
    "# GEOSPATIAL MAPPING: Ward Accidents by Type\n",
    "\n",
    "# Create ward crash type dataframes with geolocation data\n",
    "\n",
    "# WARD1 - Accident Types:\n",
    "ward2_bikeDF = ward2DF.loc[ward2DF[\"TOTAL_BICYCLES\"]>=1]\n",
    "ward2_bikeGeo = ward2_bikeDF[[\"LATITUDE\", \"LONGITUDE\"]]\n",
    "\n",
    "ward2_carDF = ward2DF.loc[ward2DF[\"TOTAL_VEHICLES\"]>=1]\n",
    "ward2_carGeo = ward2_carDF[[\"LATITUDE\", \"LONGITUDE\"]]\n",
    "\n",
    "ward2_pedestrianDF = ward2DF.loc[ward2DF[\"TOTAL_PEDESTRIANS\"]>=1]\n",
    "ward2_pedestrianGeo = ward2_pedestrianDF[[\"LATITUDE\", \"LONGITUDE\"]]\n",
    "\n",
    "ward2_taxiDF = ward2DF.loc[ward2DF[\"TOTAL_TAXIS\"]>=1]\n",
    "ward2_taxiGeo = ward2_taxiDF[[\"LATITUDE\", \"LONGITUDE\"]]\n",
    "\n",
    "ward2_govDF = ward2DF.loc[ward2DF[\"TOTAL_GOVERNMENT\"]>=1]\n",
    "ward2_govGeo = ward2_govDF[[\"LATITUDE\", \"LONGITUDE\"]]\n",
    "\n",
    "\n",
    "# Create dataframe containing all Ward 1 geodata by accident type\n",
    "ward2_CrashGeo = [ward2_bikeGeo, ward2_carGeo, ward2_pedestrianGeo, ward2_taxiGeo, ward2_govGeo]\n",
    "#colors = [\"red\", \"lightblue\", \"pink\", \"lightgreen\", \"gold\"]\n",
    "\n",
    "ward2_bikeLayer = gmaps.symbol_layer(ward2_bikeGeo, fill_color=\"red\", stroke_color=\"red\", scale=3)\n",
    "ward2_carLayer = gmaps.symbol_layer(ward2_carGeo, fill_color=\"blue\", stroke_color=\"blue\", scale=3)\n",
    "ward2_pedestrianLayer = gmaps.symbol_layer(ward2_pedestrianGeo, fill_color=\"yellow\", stroke_color=\"yellow\", scale=3)\n",
    "ward2_taxiLayer = gmaps.symbol_layer(ward2_taxiGeo, fill_color=\"green\", stroke_color=\"green\", scale=3)\n",
    "ward2_govLayer = gmaps.symbol_layer(ward2_govGeo, fill_color=\"black\", stroke_color=\"black\", scale=3)\n",
    "\n",
    "fig = gmaps.figure()                                     \n",
    "\n",
    "fig.add_layer(ward2_carLayer) \n",
    "fig.add_layer(ward2_bikeLayer)\n",
    "fig.add_layer(ward2_pedestrianLayer)\n",
    "fig.add_layer(ward2_taxiLayer)\n",
    "fig.add_layer(ward2_govLayer)\n",
    "\n",
    "fig\n"
   ]
  },
  {
   "cell_type": "code",
   "execution_count": null,
   "metadata": {},
   "outputs": [],
   "source": [
    "# bike_df = master_df[[\"ADDRESS\", \"CRIMEID\", \"FATAL_BICYCLIST\", \"FROMDATE\", \"LATITUDE\", \"LONGITUDE\", \"MAJORINJURIES_BICYCLIST\", \"MINORINJURIES_BICYCLIST\", \"XCOORD\", \"YCOORD\"]]\n",
    "# bike_df.head()"
   ]
  },
  {
   "cell_type": "code",
   "execution_count": null,
   "metadata": {},
   "outputs": [],
   "source": [
    "# geoLoc = master_df[[\"LATITUDE\",\"LONGITUDE\"]].astype(float)\n",
    "# geoLoc.head()"
   ]
  },
  {
   "cell_type": "code",
   "execution_count": null,
   "metadata": {},
   "outputs": [],
   "source": [
    "# # HEATMAP STREETVIEW\n",
    "\n",
    "# weights = master_df[\"MINORINJURIES_BICYCLIST\"]\n",
    "# fig = gmaps.figure()\n",
    "# fig.add_layer(gmaps.heatmap_layer(geoLoc, weights=weights))\n",
    "# fig"
   ]
  },
  {
   "cell_type": "code",
   "execution_count": null,
   "metadata": {},
   "outputs": [],
   "source": [
    "# # GEOLOCALIZED STREETMAP: Accident Markers\n",
    "\n",
    "# figure_layout = {\n",
    "#     'width': '400px',\n",
    "#     'height': '300px',\n",
    "#     'border': '1px solid black',\n",
    "#     'padding': '1px',\n",
    "#     'margin': '0 auto 0 auto'\n",
    "# }\n",
    "# fig = gmaps.figure(layout=figure_layout)\n",
    "\n",
    "\n",
    "# # Assign the marker layer to a variable\n",
    "# markers = gmaps.marker_layer(geoLoc)\n",
    "\n",
    "# # Add the layer to the map\n",
    "# fig.add_layer(markers)\n",
    "# fig"
   ]
  },
  {
   "cell_type": "code",
   "execution_count": null,
   "metadata": {},
   "outputs": [],
   "source": [
    "# # HEATMAP: Accidents in DC\n",
    "\n",
    "# fig = gmaps.figure(map_type=\"SATELLITE\")\n",
    "# heatmap_layer = gmaps.heatmap_layer(geoLoc)\n",
    "# fig.add_layer(heatmap_layer)\n",
    "# fig"
   ]
  },
  {
   "cell_type": "code",
   "execution_count": null,
   "metadata": {},
   "outputs": [],
   "source": [
    "# heatmap_layer.max_intensity = 100\n",
    "# heatmap_layer.point_radius = 5"
   ]
  },
  {
   "cell_type": "code",
   "execution_count": null,
   "metadata": {},
   "outputs": [],
   "source": []
  }
 ],
 "metadata": {
  "kernelspec": {
   "display_name": "Python 3",
   "language": "python",
   "name": "python3"
  },
  "language_info": {
   "codemirror_mode": {
    "name": "ipython",
    "version": 3
   },
   "file_extension": ".py",
   "mimetype": "text/x-python",
   "name": "python",
   "nbconvert_exporter": "python",
   "pygments_lexer": "ipython3",
   "version": "3.6.4"
  }
 },
 "nbformat": 4,
 "nbformat_minor": 2
}
