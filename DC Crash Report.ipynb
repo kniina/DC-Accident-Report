{
 "cells": [
  {
   "cell_type": "code",
   "execution_count": 1,
   "metadata": {},
   "outputs": [],
   "source": [
    "# Displays figures in line\n",
    "# %matplotlib inline\n",
    "\n",
    "# Import dependencies \n",
    "import pandas as pd\n",
    "import numpy as np\n",
    "import matplotlib.pyplot as plt\n",
    "import requests \n",
    "import json\n",
    "plt.style.use('ggplot')\n",
    "import gmaps\n",
    "# import gmaps.datasets\n",
    "\n",
    "# Google developer API key\n",
    "from config import gkey\n",
    "\n",
    "# Access maps with unique API key\n",
    "gmaps.configure(api_key=gkey)\n",
    "\n",
    "from pprint import pprint"
   ]
  },
  {
   "cell_type": "code",
   "execution_count": 2,
   "metadata": {},
   "outputs": [],
   "source": [
    "url = \"https://maps2.dcgis.dc.gov/dcgis/rest/services/DCGIS_DATA/Public_Safety_WebMercator/MapServer/24/query?where=1%3D1&outFields=*&outSR=4326&f=json\""
   ]
  },
  {
   "cell_type": "code",
   "execution_count": 3,
   "metadata": {},
   "outputs": [],
   "source": [
    "response = requests.get(url).json()"
   ]
  },
  {
   "cell_type": "code",
   "execution_count": 4,
   "metadata": {},
   "outputs": [],
   "source": [
    "data = response['features']\n",
    "crash_data = []"
   ]
  },
  {
   "cell_type": "code",
   "execution_count": 5,
   "metadata": {},
   "outputs": [],
   "source": [
    "#Loop through 184 pages to get all crash data\n",
    "for t in range(184):\n",
    "    i = 0\n",
    "    for x in data:\n",
    "        crash_data.append(data[i]['attributes'])\n",
    "        i = i + 1"
   ]
  },
  {
   "cell_type": "code",
   "execution_count": 6,
   "metadata": {},
   "outputs": [],
   "source": [
    "master_df = pd.DataFrame(crash_data)\n",
    "# master_df.head()"
   ]
  },
  {
   "cell_type": "code",
   "execution_count": 7,
   "metadata": {},
   "outputs": [],
   "source": [
    "# master_df.columns"
   ]
  },
  {
   "cell_type": "code",
   "execution_count": 8,
   "metadata": {},
   "outputs": [],
   "source": [
    "# Create dataframes for each ward containing all DC crash data# Create \n",
    "ward1DF = master_df.loc[master_df[\"WARD\"]== \"Ward 1\"]\n",
    "ward2DF = master_df.loc[master_df[\"WARD\"]== \"Ward 2\"]\n",
    "ward3DF = master_df.loc[master_df[\"WARD\"]== \"Ward 3\"]\n",
    "ward4DF = master_df.loc[master_df[\"WARD\"]== \"Ward 4\"]\n",
    "ward5DF = master_df.loc[master_df[\"WARD\"]== \"Ward 5\"]\n",
    "ward6DF = master_df.loc[master_df[\"WARD\"]== \"Ward 6\"]\n",
    "ward7DF = master_df.loc[master_df[\"WARD\"]== \"Ward 7\"]\n",
    "ward8DF = master_df.loc[master_df[\"WARD\"]== \"Ward 8\"]"
   ]
  },
  {
   "cell_type": "code",
   "execution_count": 9,
   "metadata": {},
   "outputs": [],
   "source": [
    "#Create dataframes for each ward for bike crashes\n",
    "ward1_bike_df = ward1DF.loc[ward1DF[\"TOTAL_BICYCLES\"] >= 1]\n",
    "ward2_bike_df = ward2DF.loc[ward2DF[\"TOTAL_BICYCLES\"] >= 1]\n",
    "ward3_bike_df = ward3DF.loc[ward3DF[\"TOTAL_BICYCLES\"] >= 1]\n",
    "ward4_bike_df = ward4DF.loc[ward4DF[\"TOTAL_BICYCLES\"] >= 1]\n",
    "ward5_bike_df = ward5DF.loc[ward5DF[\"TOTAL_BICYCLES\"] >= 1]\n",
    "ward6_bike_df = ward6DF.loc[ward6DF[\"TOTAL_BICYCLES\"] >= 1]\n",
    "ward7_bike_df = ward7DF.loc[ward7DF[\"TOTAL_BICYCLES\"] >= 1]\n",
    "ward8_bike_df = ward8DF.loc[ward8DF[\"TOTAL_BICYCLES\"] >= 1]\n",
    "\n",
    "#Create dataframes for each ward for car crashes\n",
    "ward1_car_df = ward1DF.loc[ward1DF[\"TOTAL_VEHICLES\"] >= 1]\n",
    "ward2_car_df = ward2DF.loc[ward2DF[\"TOTAL_VEHICLES\"] >= 1]\n",
    "ward3_car_df = ward3DF.loc[ward3DF[\"TOTAL_VEHICLES\"] >= 1]\n",
    "ward4_car_df = ward4DF.loc[ward4DF[\"TOTAL_VEHICLES\"] >= 1]\n",
    "ward5_car_df = ward5DF.loc[ward5DF[\"TOTAL_VEHICLES\"] >= 1]\n",
    "ward6_car_df = ward6DF.loc[ward6DF[\"TOTAL_VEHICLES\"] >= 1]\n",
    "ward7_car_df = ward7DF.loc[ward7DF[\"TOTAL_VEHICLES\"] >= 1]\n",
    "ward8_car_df = ward8DF.loc[ward8DF[\"TOTAL_VEHICLES\"] >= 1]\n",
    "\n",
    "#Create dataframes for each ward for pedestrians\n",
    "ward1_pedestrian_df = ward1DF[ward1DF[\"TOTAL_PEDESTRIANS\"] >= 1]\n",
    "ward2_pedestrian_df = ward2DF[ward2DF[\"TOTAL_PEDESTRIANS\"] >= 1]\n",
    "ward3_pedestrian_df = ward3DF[ward3DF[\"TOTAL_PEDESTRIANS\"] >= 1]\n",
    "ward4_pedestrian_df = ward4DF[ward4DF[\"TOTAL_PEDESTRIANS\"] >= 1]\n",
    "ward5_pedestrian_df = ward5DF[ward5DF[\"TOTAL_PEDESTRIANS\"] >= 1]\n",
    "ward6_pedestrian_df = ward6DF[ward6DF[\"TOTAL_PEDESTRIANS\"] >= 1]\n",
    "ward7_pedestrian_df = ward7DF[ward7DF[\"TOTAL_PEDESTRIANS\"] >= 1]\n",
    "ward8_pedestrian_df = ward8DF[ward8DF[\"TOTAL_PEDESTRIANS\"] >= 1]\n",
    "\n",
    "#Create dataframes for each ward for taxis\n",
    "ward1_taxi_df = ward1DF[ward1DF[\"TOTAL_TAXIS\"] >= 1]\n",
    "ward2_taxi_df = ward2DF[ward2DF[\"TOTAL_TAXIS\"] >= 1]\n",
    "ward3_taxi_df = ward3DF[ward3DF[\"TOTAL_TAXIS\"] >= 1]\n",
    "ward4_taxi_df = ward4DF[ward4DF[\"TOTAL_TAXIS\"] >= 1]\n",
    "ward5_taxi_df = ward5DF[ward5DF[\"TOTAL_TAXIS\"] >= 1]\n",
    "ward6_taxi_df = ward6DF[ward6DF[\"TOTAL_TAXIS\"] >= 1]\n",
    "ward7_taxi_df = ward7DF[ward7DF[\"TOTAL_TAXIS\"] >= 1]\n",
    "ward8_taxi_df = ward8DF[ward8DF[\"TOTAL_TAXIS\"] >= 1]\n",
    "\n",
    "#Create dataframes for each ward for government\n",
    "ward1_gov_df = ward1DF[ward1DF[\"TOTAL_GOVERNMENT\"] >= 1]\n",
    "ward2_gov_df = ward2DF[ward2DF[\"TOTAL_GOVERNMENT\"] >= 1]\n",
    "ward3_gov_df = ward3DF[ward3DF[\"TOTAL_GOVERNMENT\"] >= 1]\n",
    "ward4_gov_df = ward4DF[ward4DF[\"TOTAL_GOVERNMENT\"] >= 1]\n",
    "ward5_gov_df = ward5DF[ward5DF[\"TOTAL_GOVERNMENT\"] >= 1]\n",
    "ward6_gov_df = ward6DF[ward6DF[\"TOTAL_GOVERNMENT\"] >= 1]\n",
    "ward7_gov_df = ward7DF[ward7DF[\"TOTAL_GOVERNMENT\"] >= 1]\n",
    "ward8_gov_df = ward8DF[ward8DF[\"TOTAL_GOVERNMENT\"] >= 1]\n"
   ]
  },
  {
   "cell_type": "code",
   "execution_count": 10,
   "metadata": {},
   "outputs": [],
   "source": [
    "#Get locations of accidents in each ward\n",
    "\n",
    "ward1_bikeLocations = ward1_bike_df[['LATITUDE', 'LONGITUDE']]\n",
    "ward2_bikeLocations = ward2_bike_df[['LATITUDE', 'LONGITUDE']]\n",
    "ward3_bikeLocations = ward3_bike_df[['LATITUDE', 'LONGITUDE']]\n",
    "ward4_bikeLocations = ward4_bike_df[['LATITUDE', 'LONGITUDE']]\n",
    "ward5_bikeLocations = ward5_bike_df[['LATITUDE', 'LONGITUDE']]\n",
    "ward6_bikeLocations = ward6_bike_df[['LATITUDE', 'LONGITUDE']]\n",
    "ward7_bikeLocations = ward7_bike_df[['LATITUDE', 'LONGITUDE']]\n",
    "ward8_bikeLocations = ward8_bike_df[['LATITUDE', 'LONGITUDE']]\n",
    "\n",
    "\n",
    "ward1_carLocations= ward1_car_df[['LATITUDE', 'LONGITUDE']]\n",
    "ward2_carLocations= ward2_car_df[['LATITUDE', 'LONGITUDE']]\n",
    "ward3_carLocations= ward3_car_df[['LATITUDE', 'LONGITUDE']]\n",
    "ward4_carLocations= ward4_car_df[['LATITUDE', 'LONGITUDE']]\n",
    "ward5_carLocations= ward5_car_df[['LATITUDE', 'LONGITUDE']]\n",
    "ward6_carLocations= ward6_car_df[['LATITUDE', 'LONGITUDE']]\n",
    "ward7_carLocations= ward7_car_df[['LATITUDE', 'LONGITUDE']]\n",
    "ward8_carLocations= ward8_car_df[['LATITUDE', 'LONGITUDE']]\n",
    "\n",
    "ward1_pedestrianLocations = ward1_pedestrian_df[['LATITUDE', 'LONGITUDE']]\n",
    "ward2_pedestrianLocations = ward2_pedestrian_df[['LATITUDE', 'LONGITUDE']]\n",
    "ward3_pedestrianLocations = ward3_pedestrian_df[['LATITUDE', 'LONGITUDE']]\n",
    "ward4_pedestrianLocations = ward4_pedestrian_df[['LATITUDE', 'LONGITUDE']]\n",
    "ward5_pedestrianLocations = ward5_pedestrian_df[['LATITUDE', 'LONGITUDE']]\n",
    "ward6_pedestrianLocations = ward6_pedestrian_df[['LATITUDE', 'LONGITUDE']]\n",
    "ward7_pedestrianLocations = ward7_pedestrian_df[['LATITUDE', 'LONGITUDE']]\n",
    "ward8_pedestrianLocations = ward8_pedestrian_df[['LATITUDE', 'LONGITUDE']]\n",
    "\n",
    "ward1_taxiLocations = ward1_taxi_df[['LATITUDE', 'LONGITUDE']]\n",
    "ward2_taxiLocations = ward2_taxi_df[['LATITUDE', 'LONGITUDE']]\n",
    "ward3_taxiLocations = ward3_taxi_df[['LATITUDE', 'LONGITUDE']]\n",
    "ward4_taxiLocations = ward4_taxi_df[['LATITUDE', 'LONGITUDE']]\n",
    "ward5_taxiLocations = ward5_taxi_df[['LATITUDE', 'LONGITUDE']]\n",
    "ward6_taxiLocations = ward6_taxi_df[['LATITUDE', 'LONGITUDE']]\n",
    "ward7_taxiLocations = ward7_taxi_df[['LATITUDE', 'LONGITUDE']]\n",
    "ward8_taxiLocations = ward8_taxi_df[['LATITUDE', 'LONGITUDE']]\n",
    "\n",
    "ward1_govLocations = ward1_gov_df[['LATITUDE', 'LONGITUDE']]\n",
    "ward2_govLocations = ward2_gov_df[['LATITUDE', 'LONGITUDE']]\n",
    "ward3_govLocations = ward3_gov_df[['LATITUDE', 'LONGITUDE']]\n",
    "ward4_govLocations = ward4_gov_df[['LATITUDE', 'LONGITUDE']]\n",
    "ward5_govLocations = ward5_gov_df[['LATITUDE', 'LONGITUDE']]\n",
    "ward6_govLocations = ward6_gov_df[['LATITUDE', 'LONGITUDE']]\n",
    "ward7_govLocations = ward7_gov_df[['LATITUDE', 'LONGITUDE']]\n",
    "ward8_govLocations = ward8_gov_df[['LATITUDE', 'LONGITUDE']]"
   ]
  },
  {
   "cell_type": "code",
   "execution_count": 16,
   "metadata": {},
   "outputs": [],
   "source": [
    "#Ward 1 Map\n",
    "ward1_bikeLayer = gmaps.symbol_layer(ward1_bikeLocations, fill_color = 'red', stroke_color = 'red')\n",
    "ward1_carLayer = gmaps.symbol_layer(ward1_carLocations, fill_color = 'blue', stroke_color = 'blue')\n",
    "ward1_pedestrianLayer = gmaps.symbol_layer(ward1_pedestrianLocations, fill_color = 'purple', stroke_color = 'purple')\n",
    "ward1_taxiLayer = gmaps.symbol_layer(ward1_taxiLocations, fill_color = 'green', stroke_color = 'green')\n",
    "ward1_govLayer = gmaps.symbol_layer(ward1_govLocations, fill_color = 'yellow', stroke_color = 'yellow')\n",
    "\n",
    "ward1Map = gmaps.figure()\n",
    "ward1Map.add_layer(ward1_bikeLayer)\n",
    "ward1Map.add_layer(ward1_carLayer)\n",
    "ward1Map.add_layer(ward1_pedestrianLayer)\n",
    "ward1Map.add_layer(ward1_taxiLayer)\n",
    "ward1Map.add_layer(ward1_govLayer)\n",
    "ward1Map"
   ]
  },
  {
   "cell_type": "code",
   "execution_count": null,
   "metadata": {},
   "outputs": [],
   "source": [
    "#Ward 2 Map\n",
    "ward2_bikeLayer = gmaps.symbol_layer(ward2_bikeLocations, fill_color = 'red', stroke_color = 'red')\n",
    "ward2_carLayer = gmaps.symbol_layer(ward2_carLocations, fill_color = 'blue', stroke_color = 'blue')\n",
    "ward2_pedestrianLayer = gmaps.symbol_layer(ward2_pedestrianLocations, fill_color = 'purple', stroke_color = 'purple')\n",
    "ward2_taxiLayer = gmaps.symbol_layer(ward2_taxiLocations, fill_color = 'green', stroke_color = 'green')\n",
    "ward2_govLayer = gmaps.symbol_layer(ward2_govLocations, fill_color = 'yellow', stroke_color = 'yellow')\n",
    "\n",
    "ward2Map = gmaps.figure()\n",
    "ward2Map.add_layer(ward2_bikeLayer)\n",
    "ward2Map.add_layer(ward2_carLayer)\n",
    "ward2Map.add_layer(ward2_pedestrianLayer)\n",
    "ward2Map.add_layer(ward2_taxiLayer)\n",
    "ward2Map.add_layer(ward2_govLayer)\n",
    "ward2Map"
   ]
  },
  {
   "cell_type": "code",
   "execution_count": null,
   "metadata": {},
   "outputs": [],
   "source": [
    "#Ward 3 Map\n",
    "ward3_bikeLayer = gmaps.symbol_layer(ward3_bikeLocations, fill_color = 'red', stroke_color = 'red')\n",
    "ward3_carLayer = gmaps.symbol_layer(ward3_carLocations, fill_color = 'blue', stroke_color = 'blue')\n",
    "ward3_pedestrianLayer = gmaps.symbol_layer(ward3_pedestrianLocations, fill_color = 'purple', stroke_color = 'purple')\n",
    "ward3_taxiLayer = gmaps.symbol_layer(ward3_taxiLocations, fill_color = 'green', stroke_color = 'green')\n",
    "ward3_govLayer = gmaps.symbol_layer(ward3_govLocations, fill_color = 'yellow', stroke_color = 'yellow')\n",
    "\n",
    "ward3Map = gmaps.figure()\n",
    "ward3Map.add_layer(ward3_bikeLayer)\n",
    "ward3Map.add_layer(ward3_carLayer)\n",
    "ward3Map.add_layer(ward3_pedestrianLayer)\n",
    "ward3Map.add_layer(ward3_taxiLayer)\n",
    "ward3Map.add_layer(ward3_govLayer)\n",
    "ward3Map"
   ]
  },
  {
   "cell_type": "code",
   "execution_count": null,
   "metadata": {},
   "outputs": [],
   "source": [
    "#Ward 4 Map\n",
    "ward4_bikeLayer = gmaps.symbol_layer(ward4_bikeLocations, fill_color = 'red', stroke_color = 'red')\n",
    "ward4_carLayer = gmaps.symbol_layer(ward4_carLocations, fill_color = 'blue', stroke_color = 'blue')\n",
    "ward4_pedestrianLayer = gmaps.symbol_layer(ward4_pedestrianLocations, fill_color = 'purple', stroke_color = 'purple')\n",
    "ward4_taxiLayer = gmaps.symbol_layer(ward4_taxiLocations, fill_color = 'green', stroke_color = 'green')\n",
    "ward4_govLayer = gmaps.symbol_layer(ward4_govLocations, fill_color = 'yellow', stroke_color = 'yellow')\n",
    "\n",
    "ward4Map = gmaps.figure()\n",
    "ward4Map.add_layer(ward4_bikeLayer)\n",
    "ward4Map.add_layer(ward4_carLayer)\n",
    "ward4Map.add_layer(ward4_pedestrianLayer)\n",
    "ward4Map.add_layer(ward4_taxiLayer)\n",
    "ward4Map.add_layer(ward4_govLayer)\n",
    "ward4Map"
   ]
  },
  {
   "cell_type": "code",
   "execution_count": null,
   "metadata": {},
   "outputs": [],
   "source": [
    "#Ward 5 Map\n",
    "ward5_bikeLayer = gmaps.symbol_layer(ward5_bikeLocations, fill_color = 'red', stroke_color = 'red')\n",
    "ward5_carLayer = gmaps.symbol_layer(ward5_carLocations, fill_color = 'blue', stroke_color = 'blue')\n",
    "ward5_pedestrianLayer = gmaps.symbol_layer(ward5_pedestrianLocations, fill_color = 'purple', stroke_color = 'purple')\n",
    "ward5_taxiLayer = gmaps.symbol_layer(ward5_taxiLocations, fill_color = 'green', stroke_color = 'green')\n",
    "ward5_govLayer = gmaps.symbol_layer(ward5_govLocations, fill_color = 'yellow', stroke_color = 'yellow')\n",
    "\n",
    "ward5Map = gmaps.figure()\n",
    "ward5Map.add_layer(ward5_bikeLayer)\n",
    "ward5Map.add_layer(ward5_carLayer)\n",
    "ward5Map.add_layer(ward5_pedestrianLayer)\n",
    "ward5Map.add_layer(ward5_taxiLayer)\n",
    "ward5Map.add_layer(ward5_govLayer)\n",
    "ward5Map"
   ]
  },
  {
   "cell_type": "code",
   "execution_count": null,
   "metadata": {},
   "outputs": [],
   "source": [
    "#Ward 6 Map\n",
    "ward6_bikeLayer = gmaps.symbol_layer(ward6_bikeLocations, fill_color = 'red', stroke_color = 'red')\n",
    "ward6_carLayer = gmaps.symbol_layer(ward6_carLocations, fill_color = 'blue', stroke_color = 'blue')\n",
    "ward6_pedestrianLayer = gmaps.symbol_layer(ward6_pedestrianLocations, fill_color = 'purple', stroke_color = 'purple')\n",
    "ward6_taxiLayer = gmaps.symbol_layer(ward6_taxiLocations, fill_color = 'green', stroke_color = 'green')\n",
    "ward6_govLayer = gmaps.symbol_layer(ward6_govLocations, fill_color = 'yellow', stroke_color = 'yellow')\n",
    "\n",
    "ward6Map = gmaps.figure()\n",
    "ward6Map.add_layer(ward6_bikeLayer)\n",
    "ward6Map.add_layer(ward6_carLayer)\n",
    "ward6Map.add_layer(ward6_pedestrianLayer)\n",
    "ward6Map.add_layer(ward6_taxiLayer)\n",
    "ward6Map.add_layer(ward6_govLayer)\n",
    "ward6Map"
   ]
  },
  {
   "cell_type": "code",
   "execution_count": null,
   "metadata": {},
   "outputs": [],
   "source": [
    "#Ward 7 Map\n",
    "ward7_bikeLayer = gmaps.symbol_layer(ward7_bikeLocations, fill_color = 'red', stroke_color = 'red')\n",
    "ward7_carLayer = gmaps.symbol_layer(ward7_carLocations, fill_color = 'blue', stroke_color = 'blue')\n",
    "ward7_pedestrianLayer = gmaps.symbol_layer(ward7_pedestrianLocations, fill_color = 'purple', stroke_color = 'purple')\n",
    "ward7_taxiLayer = gmaps.symbol_layer(ward7_taxiLocations, fill_color = 'green', stroke_color = 'green')\n",
    "ward7_govLayer = gmaps.symbol_layer(ward7_govLocations, fill_color = 'yellow', stroke_color = 'yellow')\n",
    "\n",
    "ward7Map = gmaps.figure()\n",
    "ward7Map.add_layer(ward7_bikeLayer)\n",
    "ward7Map.add_layer(ward7_carLayer)\n",
    "ward7Map.add_layer(ward7_pedestrianLayer)\n",
    "ward7Map.add_layer(ward7_taxiLayer)\n",
    "ward7Map.add_layer(ward7_govLayer)\n",
    "ward7Map"
   ]
  },
  {
   "cell_type": "code",
   "execution_count": null,
   "metadata": {},
   "outputs": [],
   "source": [
    "#Ward 8 Map\n",
    "ward8_bikeLayer = gmaps.symbol_layer(ward8_bikeLocations, fill_color = 'red', stroke_color = 'red')\n",
    "ward8_carLayer = gmaps.symbol_layer(ward8_carLocations, fill_color = 'blue', stroke_color = 'blue')\n",
    "ward8_pedestrianLayer = gmaps.symbol_layer(ward8_pedestrianLocations, fill_color = 'purple', stroke_color = 'purple')\n",
    "ward8_taxiLayer = gmaps.symbol_layer(ward8_taxiLocations, fill_color = 'green', stroke_color = 'green')\n",
    "ward8_govLayer = gmaps.symbol_layer(ward8_govLocations, fill_color = 'yellow', stroke_color = 'yellow')\n",
    "\n",
    "ward8Map = gmaps.figure()\n",
    "ward8Map.add_layer(ward8_bikeLayer)\n",
    "ward8Map.add_layer(ward8_carLayer)\n",
    "ward8Map.add_layer(ward8_pedestrianLayer)\n",
    "ward8Map.add_layer(ward8_taxiLayer)\n",
    "ward8Map.add_layer(ward8_govLayer)\n",
    "ward8Map"
   ]
  },
  {
   "cell_type": "code",
   "execution_count": null,
   "metadata": {},
   "outputs": [],
   "source": [
    "#Create dataframes for each accident type\n",
    "bike_df = master_df.loc[master_df[\"TOTAL_BICYCLES\"] >= 1]\n",
    "driver_df = master_df.loc[master_df[\"TOTAL_VEHICLES\"] >= 1]\n",
    "pedestrian_df = master_df.loc[master_df[\"TOTAL_PEDESTRIANS\"] >= 1]\n",
    "taxi_df = master_df.loc[master_df[\"TOTAL_TAXIS\"] >= 1]\n",
    "gov_df = master_df.loc[master_df[\"TOTAL_GOVERMENT\"] >= 1]"
   ]
  },
  {
   "cell_type": "code",
   "execution_count": null,
   "metadata": {},
   "outputs": [],
   "source": [
    "bike_count = len(bike_df)\n",
    "driver_count = len(driver_df)\n",
    "pedestrian_count = len(pedestrian_df)\n",
    "taxi_count = len(taxi_df)\n",
    "gov_count = len(gov_df)"
   ]
  },
  {
   "cell_type": "code",
   "execution_count": null,
   "metadata": {},
   "outputs": [],
   "source": [
    "types = [\"Bike\", \"Car\", \"Pedestrian\", \"Taxi\", \"Government\"]\n",
    "count = [bike_count, driver_count, pedestrian_count, taxi_count, gov_count]\n",
    "colors = [\"red\", \"blue\", \"purple\", \"green\", \"yellow\"]\n",
    "explode = (.3 ,.5 ,.3, 0, 0)\n",
    "\n",
    "total_accidents = plt.pie(count, labels = types, colors = colors, autopct=\"%1.1f%%\", shadow = True, explode = explode)\n",
    "plt.axis(\"equal\")"
   ]
  },
  {
   "cell_type": "code",
   "execution_count": null,
   "metadata": {},
   "outputs": [],
   "source": [
    "# bike_locations = bike_df[['LATITUDE', 'LONGITUDE']]\n",
    "# driver_locations = driver_df[['LATITUDE', 'LONGITUDE']]\n",
    "# pedestrian_locations = pedestrian_df[['LATITUDE', 'LONGITUDE']]"
   ]
  },
  {
   "cell_type": "code",
   "execution_count": null,
   "metadata": {},
   "outputs": [],
   "source": [
    "# bike_layer = gmaps.symbol_layer(bike_locations, fill_color = 'blue', stroke_color = 'blue')\n",
    "# driver_layer = gmaps.symbol_layer(driver_locations, fill_color = 'red', stroke_color = 'red')\n",
    "# pedestrian_layer = gmaps.symbol_layer(pedestrian_locations, fill_color = 'yellow', stroke_color = 'yellow')"
   ]
  },
  {
   "cell_type": "code",
   "execution_count": null,
   "metadata": {},
   "outputs": [],
   "source": [
    "# fig = gmaps.figure()\n",
    "# fig.add_layer(bike_layer)\n",
    "# fig.add_layer(driver_layer)\n",
    "# fig.add_layer(pedestrian_layer)\n",
    "# fig"
   ]
  },
  {
   "cell_type": "code",
   "execution_count": null,
   "metadata": {
    "scrolled": true
   },
   "outputs": [],
   "source": [
    "# bike_df_reduced = bike_df[[\"ADDRESS\", \"CRIMEID\", \"FATAL_BICYCLIST\", \"FROMDATE\", \"LATITUDE\", \"LONGITUDE\", \"MAJORINJURIES_BICYCLIST\", \"MINORINJURIES_BICYCLIST\",\"TOTAL_BICYCLES\", \"XCOORD\", \"YCOORD\"]]\n",
    "# bike_df_reduced"
   ]
  },
  {
   "cell_type": "code",
   "execution_count": null,
   "metadata": {},
   "outputs": [],
   "source": [
    "# marker_locations = bike_df_reduced[[\"LATITUDE\", \"LONGITUDE\"]]"
   ]
  },
  {
   "cell_type": "code",
   "execution_count": null,
   "metadata": {},
   "outputs": [],
   "source": []
  },
  {
   "cell_type": "code",
   "execution_count": null,
   "metadata": {},
   "outputs": [],
   "source": []
  }
 ],
 "metadata": {
  "kernelspec": {
   "display_name": "Python 3",
   "language": "python",
   "name": "python3"
  },
  "language_info": {
   "codemirror_mode": {
    "name": "ipython",
    "version": 3
   },
   "file_extension": ".py",
   "mimetype": "text/x-python",
   "name": "python",
   "nbconvert_exporter": "python",
   "pygments_lexer": "ipython3",
   "version": "3.6.4"
  }
 },
 "nbformat": 4,
 "nbformat_minor": 2
}
